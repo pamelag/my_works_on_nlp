{
 "cells": [
  {
   "cell_type": "code",
   "execution_count": 1,
   "metadata": {},
   "outputs": [
    {
     "name": "stderr",
     "output_type": "stream",
     "text": [
      "Using TensorFlow backend.\n",
      "/Users/pg100121/opt/anaconda3/lib/python3.7/site-packages/tensorflow/python/framework/dtypes.py:516: FutureWarning: Passing (type, 1) or '1type' as a synonym of type is deprecated; in a future version of numpy, it will be understood as (type, (1,)) / '(1,)type'.\n",
      "  _np_qint8 = np.dtype([(\"qint8\", np.int8, 1)])\n",
      "/Users/pg100121/opt/anaconda3/lib/python3.7/site-packages/tensorflow/python/framework/dtypes.py:517: FutureWarning: Passing (type, 1) or '1type' as a synonym of type is deprecated; in a future version of numpy, it will be understood as (type, (1,)) / '(1,)type'.\n",
      "  _np_quint8 = np.dtype([(\"quint8\", np.uint8, 1)])\n",
      "/Users/pg100121/opt/anaconda3/lib/python3.7/site-packages/tensorflow/python/framework/dtypes.py:518: FutureWarning: Passing (type, 1) or '1type' as a synonym of type is deprecated; in a future version of numpy, it will be understood as (type, (1,)) / '(1,)type'.\n",
      "  _np_qint16 = np.dtype([(\"qint16\", np.int16, 1)])\n",
      "/Users/pg100121/opt/anaconda3/lib/python3.7/site-packages/tensorflow/python/framework/dtypes.py:519: FutureWarning: Passing (type, 1) or '1type' as a synonym of type is deprecated; in a future version of numpy, it will be understood as (type, (1,)) / '(1,)type'.\n",
      "  _np_quint16 = np.dtype([(\"quint16\", np.uint16, 1)])\n",
      "/Users/pg100121/opt/anaconda3/lib/python3.7/site-packages/tensorflow/python/framework/dtypes.py:520: FutureWarning: Passing (type, 1) or '1type' as a synonym of type is deprecated; in a future version of numpy, it will be understood as (type, (1,)) / '(1,)type'.\n",
      "  _np_qint32 = np.dtype([(\"qint32\", np.int32, 1)])\n",
      "/Users/pg100121/opt/anaconda3/lib/python3.7/site-packages/tensorflow/python/framework/dtypes.py:525: FutureWarning: Passing (type, 1) or '1type' as a synonym of type is deprecated; in a future version of numpy, it will be understood as (type, (1,)) / '(1,)type'.\n",
      "  np_resource = np.dtype([(\"resource\", np.ubyte, 1)])\n",
      "/Users/pg100121/opt/anaconda3/lib/python3.7/site-packages/tensorboard/compat/tensorflow_stub/dtypes.py:541: FutureWarning: Passing (type, 1) or '1type' as a synonym of type is deprecated; in a future version of numpy, it will be understood as (type, (1,)) / '(1,)type'.\n",
      "  _np_qint8 = np.dtype([(\"qint8\", np.int8, 1)])\n",
      "/Users/pg100121/opt/anaconda3/lib/python3.7/site-packages/tensorboard/compat/tensorflow_stub/dtypes.py:542: FutureWarning: Passing (type, 1) or '1type' as a synonym of type is deprecated; in a future version of numpy, it will be understood as (type, (1,)) / '(1,)type'.\n",
      "  _np_quint8 = np.dtype([(\"quint8\", np.uint8, 1)])\n",
      "/Users/pg100121/opt/anaconda3/lib/python3.7/site-packages/tensorboard/compat/tensorflow_stub/dtypes.py:543: FutureWarning: Passing (type, 1) or '1type' as a synonym of type is deprecated; in a future version of numpy, it will be understood as (type, (1,)) / '(1,)type'.\n",
      "  _np_qint16 = np.dtype([(\"qint16\", np.int16, 1)])\n",
      "/Users/pg100121/opt/anaconda3/lib/python3.7/site-packages/tensorboard/compat/tensorflow_stub/dtypes.py:544: FutureWarning: Passing (type, 1) or '1type' as a synonym of type is deprecated; in a future version of numpy, it will be understood as (type, (1,)) / '(1,)type'.\n",
      "  _np_quint16 = np.dtype([(\"quint16\", np.uint16, 1)])\n",
      "/Users/pg100121/opt/anaconda3/lib/python3.7/site-packages/tensorboard/compat/tensorflow_stub/dtypes.py:545: FutureWarning: Passing (type, 1) or '1type' as a synonym of type is deprecated; in a future version of numpy, it will be understood as (type, (1,)) / '(1,)type'.\n",
      "  _np_qint32 = np.dtype([(\"qint32\", np.int32, 1)])\n",
      "/Users/pg100121/opt/anaconda3/lib/python3.7/site-packages/tensorboard/compat/tensorflow_stub/dtypes.py:550: FutureWarning: Passing (type, 1) or '1type' as a synonym of type is deprecated; in a future version of numpy, it will be understood as (type, (1,)) / '(1,)type'.\n",
      "  np_resource = np.dtype([(\"resource\", np.ubyte, 1)])\n"
     ]
    }
   ],
   "source": [
    "from keras.layers.core import Dense, Dropout, SpatialDropout1D\n",
    "from keras.layers.convolutional import Conv1D\n",
    "from keras.layers.embeddings import Embedding\n",
    "from keras.layers.pooling import GlobalMaxPooling1D\n",
    "from keras.models import Sequential\n",
    "from keras.preprocessing.sequence import pad_sequences\n",
    "from keras.utils import np_utils\n",
    "from sklearn.model_selection import train_test_split\n",
    "import collections\n",
    "import matplotlib.pyplot as plt\n",
    "import nltk\n",
    "import numpy as np"
   ]
  },
  {
   "cell_type": "code",
   "execution_count": 2,
   "metadata": {},
   "outputs": [],
   "source": [
    "np.random.seed(42)"
   ]
  },
  {
   "cell_type": "code",
   "execution_count": 3,
   "metadata": {},
   "outputs": [],
   "source": [
    "INPUT_FILE = \"data/umich-sentiment-train.txt\"\n",
    "VOCAB_SIZE = 5000\n",
    "EMBED_SIZE = 100\n",
    "NUM_FILTERS = 256\n",
    "NUM_WORDS = 3\n",
    "BATCH_SIZE = 64\n",
    "NUM_EPOCHS = 20"
   ]
  },
  {
   "cell_type": "code",
   "execution_count": 4,
   "metadata": {},
   "outputs": [],
   "source": [
    "counter = collections.Counter()\n",
    "fin = open(INPUT_FILE, \"r\")\n",
    "maxlen = 0\n",
    "for line in fin:\n",
    "    #_, sent = line.decode('utf8').strip().split(\"\\t\")\n",
    "    _, sent = line.strip().split(\"\\t\")\n",
    "    words = [x.lower() for x in nltk.word_tokenize(sent)]\n",
    "    if len(words) > maxlen:\n",
    "        maxlen = len(words)\n",
    "    for word in words:\n",
    "        counter[word] += 1\n",
    "fin.close()"
   ]
  },
  {
   "cell_type": "code",
   "execution_count": 5,
   "metadata": {},
   "outputs": [],
   "source": [
    "word2index = collections.defaultdict(int)\n",
    "for wid, word in enumerate(counter.most_common(VOCAB_SIZE)):\n",
    "    word2index[word[0]] = wid + 1\n",
    "vocab_sz = len(word2index) + 1\n",
    "index2word = {v:k for k, v in word2index.items()}"
   ]
  },
  {
   "cell_type": "code",
   "execution_count": 6,
   "metadata": {},
   "outputs": [],
   "source": [
    "xs, ys = [], []\n",
    "fin = open(INPUT_FILE, \"r\")\n",
    "for line in fin:\n",
    "    label, sent = line.strip().split(\"\\t\")\n",
    "    ys.append(int(label))\n",
    "    words = [x.lower() for x in nltk.word_tokenize(sent)]\n",
    "    wids = [word2index[word] for word in words]\n",
    "    xs.append(wids)\n",
    "fin.close()\n",
    "X = pad_sequences(xs, maxlen=maxlen)"
   ]
  },
  {
   "cell_type": "code",
   "execution_count": 7,
   "metadata": {},
   "outputs": [],
   "source": [
    "Y = np_utils.to_categorical(ys)"
   ]
  },
  {
   "cell_type": "code",
   "execution_count": 8,
   "metadata": {},
   "outputs": [],
   "source": [
    "Xtrain, Xtest, Ytrain, Ytest = train_test_split(X, Y, test_size=0.3, random_state=42)"
   ]
  },
  {
   "cell_type": "code",
   "execution_count": 9,
   "metadata": {},
   "outputs": [],
   "source": [
    "embedding_layer = Embedding(vocab_sz, EMBED_SIZE, input_length=maxlen)"
   ]
  },
  {
   "cell_type": "code",
   "execution_count": 10,
   "metadata": {},
   "outputs": [
    {
     "name": "stdout",
     "output_type": "stream",
     "text": [
      "WARNING:tensorflow:From /Users/pg100121/opt/anaconda3/lib/python3.7/site-packages/keras/backend/tensorflow_backend.py:422: The name tf.global_variables is deprecated. Please use tf.compat.v1.global_variables instead.\n",
      "\n"
     ]
    }
   ],
   "source": [
    "model = Sequential()\n",
    "# model.add(Embedding(vocab_sz, EMBED_SIZE, input_length=maxlen))\n",
    "\n",
    "model.add(embedding_layer)\n",
    "\n",
    "model.compile('rmsprop', 'mse')\n",
    "output_array = model.predict(Xtrain)\n"
   ]
  },
  {
   "cell_type": "code",
   "execution_count": 11,
   "metadata": {},
   "outputs": [
    {
     "data": {
      "text/plain": [
       "array([[[ 0.03748308,  0.01016643,  0.04459797, ..., -0.04893805,\n",
       "          0.00047791, -0.02263826],\n",
       "        [ 0.03748308,  0.01016643,  0.04459797, ..., -0.04893805,\n",
       "          0.00047791, -0.02263826],\n",
       "        [ 0.03748308,  0.01016643,  0.04459797, ..., -0.04893805,\n",
       "          0.00047791, -0.02263826],\n",
       "        ...,\n",
       "        [-0.00230595, -0.04273555,  0.02799037, ..., -0.01727477,\n",
       "         -0.00382271,  0.0072687 ],\n",
       "        [ 0.04931537, -0.01106163,  0.03705365, ..., -0.04269552,\n",
       "          0.00466845,  0.04468817],\n",
       "        [-0.04827228, -0.02407642, -0.04692221, ..., -0.026925  ,\n",
       "          0.02328039, -0.00387763]],\n",
       "\n",
       "       [[ 0.03748308,  0.01016643,  0.04459797, ..., -0.04893805,\n",
       "          0.00047791, -0.02263826],\n",
       "        [ 0.03748308,  0.01016643,  0.04459797, ..., -0.04893805,\n",
       "          0.00047791, -0.02263826],\n",
       "        [ 0.03748308,  0.01016643,  0.04459797, ..., -0.04893805,\n",
       "          0.00047791, -0.02263826],\n",
       "        ...,\n",
       "        [-0.02031668, -0.01787167,  0.01170753, ..., -0.00388479,\n",
       "          0.04283125, -0.04066492],\n",
       "        [ 0.03856606,  0.0277477 , -0.04627011, ..., -0.0477933 ,\n",
       "          0.04015473, -0.01078637],\n",
       "        [-0.00096982, -0.01514252, -0.0223002 , ..., -0.04964821,\n",
       "          0.02160925, -0.02445477]],\n",
       "\n",
       "       [[ 0.03748308,  0.01016643,  0.04459797, ..., -0.04893805,\n",
       "          0.00047791, -0.02263826],\n",
       "        [ 0.03748308,  0.01016643,  0.04459797, ..., -0.04893805,\n",
       "          0.00047791, -0.02263826],\n",
       "        [ 0.03748308,  0.01016643,  0.04459797, ..., -0.04893805,\n",
       "          0.00047791, -0.02263826],\n",
       "        ...,\n",
       "        [-0.03919914,  0.04638585,  0.00329823, ..., -0.0347858 ,\n",
       "         -0.01617546,  0.00388933],\n",
       "        [-0.04506776, -0.01359923,  0.02254391, ...,  0.01137825,\n",
       "          0.02555839,  0.02919093],\n",
       "        [-0.03836448,  0.00410305, -0.0098667 , ...,  0.03981994,\n",
       "         -0.03962078, -0.01828524]],\n",
       "\n",
       "       ...,\n",
       "\n",
       "       [[ 0.03748308,  0.01016643,  0.04459797, ..., -0.04893805,\n",
       "          0.00047791, -0.02263826],\n",
       "        [ 0.03748308,  0.01016643,  0.04459797, ..., -0.04893805,\n",
       "          0.00047791, -0.02263826],\n",
       "        [ 0.03748308,  0.01016643,  0.04459797, ..., -0.04893805,\n",
       "          0.00047791, -0.02263826],\n",
       "        ...,\n",
       "        [-0.02532495,  0.00128042,  0.00991515, ...,  0.00517375,\n",
       "         -0.01897222, -0.04360573],\n",
       "        [ 0.04931537, -0.01106163,  0.03705365, ..., -0.04269552,\n",
       "          0.00466845,  0.04468817],\n",
       "        [-0.04827228, -0.02407642, -0.04692221, ..., -0.026925  ,\n",
       "          0.02328039, -0.00387763]],\n",
       "\n",
       "       [[ 0.03748308,  0.01016643,  0.04459797, ..., -0.04893805,\n",
       "          0.00047791, -0.02263826],\n",
       "        [ 0.03748308,  0.01016643,  0.04459797, ..., -0.04893805,\n",
       "          0.00047791, -0.02263826],\n",
       "        [ 0.03748308,  0.01016643,  0.04459797, ..., -0.04893805,\n",
       "          0.00047791, -0.02263826],\n",
       "        ...,\n",
       "        [ 0.01028011, -0.02953311, -0.00400387, ..., -0.0409626 ,\n",
       "         -0.04429227, -0.045208  ],\n",
       "        [ 0.04320079, -0.00441825, -0.03195696, ..., -0.02150803,\n",
       "          0.01308114, -0.02224872],\n",
       "        [-0.03836448,  0.00410305, -0.0098667 , ...,  0.03981994,\n",
       "         -0.03962078, -0.01828524]],\n",
       "\n",
       "       [[ 0.03748308,  0.01016643,  0.04459797, ..., -0.04893805,\n",
       "          0.00047791, -0.02263826],\n",
       "        [ 0.03748308,  0.01016643,  0.04459797, ..., -0.04893805,\n",
       "          0.00047791, -0.02263826],\n",
       "        [ 0.03748308,  0.01016643,  0.04459797, ..., -0.04893805,\n",
       "          0.00047791, -0.02263826],\n",
       "        ...,\n",
       "        [-0.01808739, -0.01035432,  0.01474042, ...,  0.02728451,\n",
       "         -0.02472869, -0.0363382 ],\n",
       "        [-0.0080488 ,  0.01523992,  0.01030578, ...,  0.03615158,\n",
       "         -0.03159095,  0.0162786 ],\n",
       "        [-0.03836448,  0.00410305, -0.0098667 , ...,  0.03981994,\n",
       "         -0.03962078, -0.01828524]]], dtype=float32)"
      ]
     },
     "execution_count": 11,
     "metadata": {},
     "output_type": "execute_result"
    }
   ],
   "source": [
    "output_array"
   ]
  },
  {
   "cell_type": "code",
   "execution_count": 12,
   "metadata": {},
   "outputs": [],
   "source": [
    "embeddings = embedding_layer.get_weights()"
   ]
  },
  {
   "cell_type": "code",
   "execution_count": 13,
   "metadata": {},
   "outputs": [
    {
     "data": {
      "text/plain": [
       "[array([[ 0.03748308,  0.01016643,  0.04459797, ..., -0.04893805,\n",
       "          0.00047791, -0.02263826],\n",
       "        [ 0.00261544,  0.04760228,  0.01978265, ...,  0.03155864,\n",
       "          0.02775392,  0.00534248],\n",
       "        [ 0.03266538,  0.0100345 ,  0.04009962, ..., -0.01641399,\n",
       "         -0.02212536, -0.04621423],\n",
       "        ...,\n",
       "        [ 0.01281841, -0.01239831,  0.02396257, ...,  0.04984382,\n",
       "         -0.00712018,  0.0439778 ],\n",
       "        [ 0.03896398,  0.04419916,  0.03258631, ...,  0.02866254,\n",
       "         -0.00583298, -0.0156497 ],\n",
       "        [-0.04864553,  0.00828662, -0.00148288, ..., -0.03226625,\n",
       "         -0.01160889,  0.00142257]], dtype=float32)]"
      ]
     },
     "execution_count": 13,
     "metadata": {},
     "output_type": "execute_result"
    }
   ],
   "source": [
    "embeddings"
   ]
  },
  {
   "cell_type": "code",
   "execution_count": null,
   "metadata": {},
   "outputs": [],
   "source": [
    "model = Sequential()\n",
    "model.add(Embedding(vocab_sz, EMBED_SIZE, input_length=maxlen))\n",
    "model.add(SpatialDropout1D(0.2))\n",
    "model.add(Conv1D(filters=NUM_FILTERS, kernel_size=NUM_WORDS, activation=\"relu\"))\n",
    "model.add(GlobalMaxPooling1D())\n",
    "model.add(Dense(2, activation=\"softmax\"))"
   ]
  },
  {
   "cell_type": "code",
   "execution_count": null,
   "metadata": {},
   "outputs": [],
   "source": [
    "model.compile(optimizer=\"adam\", loss=\"categorical_crossentropy\",\n",
    "              metrics=[\"acc\"])\n",
    "history = model.fit(Xtrain, Ytrain, batch_size=BATCH_SIZE,\n",
    "                    epochs=NUM_EPOCHS,\n",
    "                    validation_data=(Xtest, Ytest))   "
   ]
  },
  {
   "cell_type": "code",
   "execution_count": null,
   "metadata": {},
   "outputs": [],
   "source": [
    "# plot loss function\n",
    "plt.subplot(211)\n",
    "plt.title(\"accuracy\")\n",
    "plt.plot(history.history[\"acc\"], color=\"r\", label=\"train\")\n",
    "plt.plot(history.history[\"val_acc\"], color=\"b\", label=\"validation\")\n",
    "plt.legend(loc=\"best\")"
   ]
  },
  {
   "cell_type": "code",
   "execution_count": null,
   "metadata": {},
   "outputs": [],
   "source": [
    "plt.subplot(212)\n",
    "plt.title(\"loss\")\n",
    "plt.plot(history.history[\"loss\"], color=\"r\", label=\"train\")\n",
    "plt.plot(history.history[\"val_loss\"], color=\"b\", label=\"validation\")\n",
    "plt.legend(loc=\"best\")"
   ]
  },
  {
   "cell_type": "code",
   "execution_count": null,
   "metadata": {},
   "outputs": [],
   "source": [
    "plt.tight_layout()\n",
    "plt.show()"
   ]
  },
  {
   "cell_type": "code",
   "execution_count": null,
   "metadata": {},
   "outputs": [],
   "source": [
    "# evaluate model\n",
    "score = model.evaluate(Xtest, Ytest, verbose=1)\n",
    "print(\"Test score: {:.3f}, accuracy: {:.3f}\".format(score[0], score[1]))"
   ]
  },
  {
   "cell_type": "code",
   "execution_count": null,
   "metadata": {},
   "outputs": [],
   "source": []
  }
 ],
 "metadata": {
  "kernelspec": {
   "display_name": "Python 3",
   "language": "python",
   "name": "python3"
  },
  "language_info": {
   "codemirror_mode": {
    "name": "ipython",
    "version": 3
   },
   "file_extension": ".py",
   "mimetype": "text/x-python",
   "name": "python",
   "nbconvert_exporter": "python",
   "pygments_lexer": "ipython3",
   "version": "3.7.6"
  }
 },
 "nbformat": 4,
 "nbformat_minor": 4
}
